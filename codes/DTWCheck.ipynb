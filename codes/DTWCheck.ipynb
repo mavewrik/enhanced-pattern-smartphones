{
 "cells": [
  {
   "cell_type": "code",
   "execution_count": 1,
   "metadata": {},
   "outputs": [
    {
     "name": "stdout",
     "output_type": "stream",
     "text": [
      "Populating the interactive namespace from numpy and matplotlib\n"
     ]
    }
   ],
   "source": [
    "%pylab inline\n",
    "import numpy as np\n",
    "from scipy.spatial.distance import euclidean\n",
    "from fastdtw import fastdtw\n",
    "import pandas as pd"
   ]
  },
  {
   "cell_type": "code",
   "execution_count": 71,
   "metadata": {},
   "outputs": [],
   "source": [
    "data1 = []\n",
    "data2 = []\n",
    "i = 2\n",
    "for j in range(1,6):\n",
    "    data11 = pd.read_csv(\"upload/speedAyush\"+str(i)+\".csv\")\n",
    "    data21 = pd.read_csv(\"upload/speedWrik\"+str(j)+\".csv\")\n",
    "    data1.append(data11)\n",
    "    data2.append(data21)"
   ]
  },
  {
   "cell_type": "code",
   "execution_count": 72,
   "metadata": {},
   "outputs": [],
   "source": [
    "x = []\n",
    "y = []\n",
    "for k in range(0,5):\n",
    "    x1 = data1[k].iloc[:,0]\n",
    "    x2 = [i for i in x1]\n",
    "    x3 = data1[k].iloc[:,1]\n",
    "    x4 = [i for i in x3]\n",
    "    y1 = data2[k].iloc[:,0]\n",
    "    y2 = [i for i in y1]\n",
    "    y3 = data2[k].iloc[:,1]\n",
    "    y4 = [i for i in y3]\n",
    "    x5 = []\n",
    "    y5 = []\n",
    "    for j in range(0,len(x2)):\n",
    "        a = [x2[j],x4[j]]\n",
    "        x5.append(a)\n",
    "    for j in range(0,len(y2)):\n",
    "        b = [y2[j],y4[j]]\n",
    "        y5.append(b)\n",
    "    x11 = np.array(x5)\n",
    "    y11 = np.array(y5)\n",
    "    x.append(x11)\n",
    "    y.append(y11)"
   ]
  },
  {
   "cell_type": "code",
   "execution_count": 73,
   "metadata": {},
   "outputs": [],
   "source": [
    "distance = []\n",
    "path = []\n",
    "for i in range(0,5):\n",
    "    distance11,path11 = fastdtw(x[i], y[i], radius=2,  dist=euclidean)\n",
    "    distance.append(distance11)\n",
    "    path.append(path11)"
   ]
  },
  {
   "cell_type": "code",
   "execution_count": 74,
   "metadata": {},
   "outputs": [],
   "source": [
    "euc = []\n",
    "for j in range(0,5):\n",
    "    e = []\n",
    "    path11 = path[j]\n",
    "    for i in path11:\n",
    "        xSeries = x[j][i[0]]\n",
    "        ySeries = y[j][i[1]]\n",
    "        e.append(euclidean(xSeries, ySeries))\n",
    "    euc.append(e)"
   ]
  },
  {
   "cell_type": "code",
   "execution_count": 75,
   "metadata": {},
   "outputs": [
    {
     "name": "stdout",
     "output_type": "stream",
     "text": [
      "54\n",
      "53\n"
     ]
    }
   ],
   "source": [
    "maxi = 0\n",
    "mini = 1000\n",
    "for i in euc:\n",
    "    if len(i) > maxi:\n",
    "        maxi = len(i)\n",
    "    if len(i) < mini:\n",
    "        mini = len(i)\n",
    "print(maxi)\n",
    "print(mini)"
   ]
  },
  {
   "cell_type": "code",
   "execution_count": 76,
   "metadata": {},
   "outputs": [],
   "source": [
    "for i in euc:\n",
    "    if maxi-len(i) > 0:\n",
    "        for j in range(0,maxi-len(i)):\n",
    "            i.append(0)"
   ]
  },
  {
   "cell_type": "code",
   "execution_count": 77,
   "metadata": {},
   "outputs": [],
   "source": [
    "euclid = np.array(euc)"
   ]
  },
  {
   "cell_type": "code",
   "execution_count": 78,
   "metadata": {},
   "outputs": [
    {
     "name": "stdout",
     "output_type": "stream",
     "text": [
      "[  0.           0.74202912   5.02401547   0.73968755   0.54586071\n",
      "   0.38550877   0.40500443   0.3753451    0.51755815   0.29715003\n",
      "   0.60480233   0.76203207   0.58621956   0.60091428   0.73293731\n",
      "   0.96391496   0.42991744   0.56480633   3.65604385   0.89008574\n",
      "   1.83672232   1.74799134   1.28911891   0.72478815   0.92714303\n",
      "   0.60362867   0.70015227   0.34927342   0.62929469   0.42389183\n",
      "   5.65871585  11.46423152  17.58238881  23.1813139   26.96370624\n",
      "   9.62080233  21.69240628  28.10979249  27.72721405  28.87600661\n",
      "  27.72570337  28.87234195  24.68742455  30.39894248  28.49991444\n",
      "  29.260826    27.34608892  28.8756874   28.49256793  27.72761691\n",
      "  28.49243426  28.11007299  29.64480936 195.07072824]\n",
      "54\n"
     ]
    }
   ],
   "source": [
    "outCheck = euclid.std(0)\n",
    "print(outCheck)\n",
    "print(len(outCheck))"
   ]
  },
  {
   "cell_type": "code",
   "execution_count": 79,
   "metadata": {},
   "outputs": [
    {
     "name": "stdout",
     "output_type": "stream",
     "text": [
      "[0.0, 7.6222888, 1.28909351, 0.50313601, 0.40823923, 0.52276039, 0.68409885, 0.47100917, 0.594306, 0.50712524, 0.63647946, 0.88343757, 1.26877159, 0.88593596, 0.58420113, 0.55849572, 1.11861177, 0.58354765, 0.45349692, 3.91306162, 1.02630051, 1.69594541, 1.60207398, 0.66616407, 0.60337481, 1.33028231, 1.13255606, 0.99607701, 0.97148844, 0.50141571, 4.50667912, 11.25857005, 19.13872895, 27.67476316, 35.37868321, 41.67506706]\n",
      "36\n"
     ]
    }
   ],
   "source": [
    "out = [ 0.,7.6222888,1.28909351,0.50313601,0.40823923,0.52276039,0.68409885,\n",
    "       0.47100917,0.5943060,0.50712524,0.63647946,0.88343757,1.26877159,0.88593596,\n",
    "       0.58420113,0.55849572,1.11861177,0.58354765,0.45349692,3.91306162,1.02630051,\n",
    "       1.69594541,1.60207398,0.66616407,0.60337481,1.33028231,1.13255606,0.99607701,\n",
    "       0.97148844,0.50141571,4.50667912,11.25857005,19.13872895,27.67476316,35.37868321,41.67506706]\n",
    "print(out)\n",
    "print(len(out))"
   ]
  },
  {
   "cell_type": "code",
   "execution_count": 80,
   "metadata": {},
   "outputs": [],
   "source": [
    "if len(out) > len(outCheck):\n",
    "    for i in range(0,len(out)-len(outCheck)):\n",
    "        outcheck.append(0)\n",
    "else:\n",
    "    for i in range(0,len(outCheck)-len(out)):\n",
    "        out.append(0)"
   ]
  },
  {
   "cell_type": "code",
   "execution_count": 32,
   "metadata": {},
   "outputs": [
    {
     "data": {
      "text/plain": [
       "array([ 460.16948739,  489.52249138,  485.02338119,  481.08545666,\n",
       "        512.25817765,  509.03419306,  514.17483393,  516.07322734,\n",
       "        482.55370844,  588.56204702,  927.51100936, 1542.11707281,\n",
       "       2446.41619599, 3632.35490512, 5035.54403077, 5003.42250805,\n",
       "       4970.31060045, 4932.6928779 , 4875.58255122, 4763.69874927,\n",
       "       4541.6301272 , 4170.12112156, 3607.04827166, 2811.0424001 ,\n",
       "       2013.21891739, 1315.46808777,  750.54493922,  331.51180716,\n",
       "        145.67561448,  164.16201294,  153.41550715,  152.23863927,\n",
       "        135.02800441,  117.96292133,  142.73406224,  166.67972021,\n",
       "        184.92456795,  203.82492904,  200.84011641,  105.66433132,\n",
       "        106.0106142 ,  122.11766646,  101.78025381,  115.06521097])"
      ]
     },
     "execution_count": 32,
     "metadata": {},
     "output_type": "execute_result"
    }
   ],
   "source": [
    "a = np.correlate(out,outCheck,'same')"
   ]
  },
  {
   "cell_type": "code",
   "execution_count": 45,
   "metadata": {},
   "outputs": [],
   "source": [
    "b = np.correlate(out,outCheck,'same')"
   ]
  },
  {
   "cell_type": "code",
   "execution_count": 46,
   "metadata": {},
   "outputs": [],
   "source": [
    "a = np.array([ 460.16948739,  489.52249138,  485.02338119,  481.08545666,\n",
    "        512.25817765,  509.03419306,  514.17483393,  516.07322734,\n",
    "        482.55370844,  588.56204702,  927.51100936, 1542.11707281,\n",
    "       2446.41619599, 3632.35490512, 5035.54403077, 5003.42250805,\n",
    "       4970.31060045, 4932.6928779 , 4875.58255122, 4763.69874927,\n",
    "       4541.6301272 , 4170.12112156, 3607.04827166, 2811.0424001 ,\n",
    "       2013.21891739, 1315.46808777,  750.54493922,  331.51180716,\n",
    "        145.67561448,  164.16201294,  153.41550715,  152.23863927,\n",
    "        135.02800441,  117.96292133,  142.73406224,  166.67972021,\n",
    "        184.92456795,  203.82492904,  200.84011641,  105.66433132,\n",
    "        106.0106142 ,  122.11766646,  101.78025381,  115.06521097])"
   ]
  },
  {
   "cell_type": "code",
   "execution_count": 47,
   "metadata": {},
   "outputs": [
    {
     "data": {
      "text/plain": [
       "[<matplotlib.lines.Line2D at 0x228b6e01a20>]"
      ]
     },
     "execution_count": 47,
     "metadata": {},
     "output_type": "execute_result"
    },
    {
     "data": {
      "image/png": "[encoded data removed]",
      "text/plain": [
       "<Figure size 432x288 with 1 Axes>"
      ]
     },
     "metadata": {},
     "output_type": "display_data"
    }
   ],
   "source": [
    "plot(a)\n",
    "plot(b)"
   ]
  },
  {
   "cell_type": "code",
   "execution_count": 70,
   "metadata": {},
   "outputs": [
    {
     "name": "stdout",
     "output_type": "stream",
     "text": [
      "9.89636358312841\n",
      "6.628489433605633\n"
     ]
    }
   ],
   "source": [
    "test1 = np.std(out)\n",
    "test2 = np.std(outCheck)\n",
    "print(test1)\n",
    "print(test2)"
   ]
  },
  {
   "cell_type": "code",
   "execution_count": 81,
   "metadata": {},
   "outputs": [
    {
     "name": "stdout",
     "output_type": "stream",
     "text": [
      "8.394181320145574\n",
      "27.76525894094306\n"
     ]
    }
   ],
   "source": [
    "test1 = np.std(out)\n",
    "test2 = np.std(outCheck)\n",
    "print(test1)\n",
    "print(test2)"
   ]
  }
 ],
 "metadata": {
  "kernelspec": {
   "display_name": "Python 3",
   "language": "python",
   "name": "python3"
  },
  "language_info": {
   "codemirror_mode": {
    "name": "ipython",
    "version": 3
   },
   "file_extension": ".py",
   "mimetype": "text/x-python",
   "name": "python",
   "nbconvert_exporter": "python",
   "pygments_lexer": "ipython3",
   "version": "3.6.5"
  }
 },
 "nbformat": 4,
 "nbformat_minor": 2
}
