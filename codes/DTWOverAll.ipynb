{
 "cells": [
  {
   "cell_type": "code",
   "execution_count": 2,
   "metadata": {},
   "outputs": [
    {
     "name": "stdout",
     "output_type": "stream",
     "text": [
      "4.41840101394874\n",
      "2.999456916970279\n",
      "4.44148983576297\n",
      "0.7878501798247901\n",
      "3.3598403747331935\n"
     ]
    }
   ],
   "source": [
    "\n",
    "import numpy as np\n",
    "from scipy.spatial.distance import euclidean\n",
    "from fastdtw import fastdtw\n",
    "import pandas as pd\n",
    "\n",
    "finalValues = []\n",
    "for per in range(6,11):\n",
    "    data1 = []\n",
    "    data2 = []\n",
    "    for j in range(1,6):\n",
    "        data11 = pd.read_csv(\"upload/speedWrik\"+str(per)+\".csv\")\n",
    "        data21 = pd.read_csv(\"upload/speedWrik\"+str(j)+\".csv\")\n",
    "        data1.append(data11)\n",
    "        data2.append(data21)\n",
    "\n",
    "\n",
    "\n",
    "    x = []\n",
    "    y = []\n",
    "    for k in range(0,5):\n",
    "        x1 = data1[k].iloc[:,0]\n",
    "        x2 = [i for i in x1]\n",
    "        x3 = data1[k].iloc[:,1]\n",
    "        x4 = [i for i in x3]\n",
    "        y1 = data2[k].iloc[:,0]\n",
    "        y2 = [i for i in y1]\n",
    "        y3 = data2[k].iloc[:,1]\n",
    "        y4 = [i for i in y3]\n",
    "        x5 = []\n",
    "        y5 = []\n",
    "        for j in range(0,len(x2)):\n",
    "            a = [x2[j],x4[j]]\n",
    "            x5.append(a)\n",
    "        for j in range(0,len(y2)):\n",
    "            b = [y2[j],y4[j]]\n",
    "            y5.append(b)\n",
    "        x11 = np.array(x5)\n",
    "        y11 = np.array(y5)\n",
    "        x.append(x11)\n",
    "        y.append(y11)\n",
    "\n",
    "\n",
    "\n",
    "    distance = []\n",
    "    path = []\n",
    "    for i in range(0,5):\n",
    "        distance11,path11 = fastdtw(x[i], y[i], radius=2,  dist=euclidean)\n",
    "        distance.append(distance11)\n",
    "        path.append(path11)\n",
    "\n",
    "\n",
    "    euc = []\n",
    "    for j in range(0,5):\n",
    "        e = []\n",
    "        path11 = path[j]\n",
    "        for i in path11:\n",
    "            xSeries = x[j][i[0]]\n",
    "            ySeries = y[j][i[1]]\n",
    "            e.append(euclidean(xSeries, ySeries))\n",
    "        euc.append(e)\n",
    "\n",
    "\n",
    "    maxi = 0\n",
    "    mini = 1000\n",
    "    for i in euc:\n",
    "        if len(i) > maxi:\n",
    "            maxi = len(i)\n",
    "        if len(i) < mini:\n",
    "            mini = len(i)\n",
    "    #print(maxi)\n",
    "    #print(mini)\n",
    "\n",
    "\n",
    "\n",
    "    for i in euc:\n",
    "        if maxi-len(i) > 0:\n",
    "            for j in range(0,maxi-len(i)):\n",
    "                i.append(0)\n",
    "\n",
    "\n",
    "\n",
    "\n",
    "    euclid = np.array(euc)\n",
    "\n",
    "\n",
    "\n",
    "    outCheck = euclid.std(0)\n",
    "    #print(outCheck)\n",
    "    #print(len(outCheck))\n",
    "\n",
    "\n",
    "    out = [ 0.,7.6222888,1.28909351,0.50313601,0.40823923,0.52276039,0.68409885,\n",
    "        0.47100917,0.5943060,0.50712524,0.63647946,0.88343757,1.26877159,0.88593596,\n",
    "        0.58420113,0.55849572,1.11861177,0.58354765,0.45349692,3.91306162,1.02630051,\n",
    "        1.69594541,1.60207398,0.66616407,0.60337481,1.33028231,1.13255606,0.99607701,\n",
    "        0.97148844,0.50141571,4.50667912,11.25857005,19.13872895,27.67476316,35.37868321,41.67506706]\n",
    "    #print(out)\n",
    "    #print(len(out))\n",
    "\n",
    "\n",
    "    if len(out) > len(outCheck):\n",
    "        for i in range(0,len(out)-len(outCheck)):\n",
    "            outCheck.append(0)\n",
    "    else:\n",
    "        for i in range(0,len(outCheck)-len(out)):\n",
    "            out.append(0)\n",
    "    \n",
    "    result = []\n",
    "    result.append(out)\n",
    "    result.append(outCheck)\n",
    "    result1 = np.array(result)\n",
    "    result2 = result1.std(0)\n",
    "    finalResult = np.std(result2)\n",
    "    print(finalResult)\n",
    "    #test1 = np.std(out)\n",
    "    #test2 = np.std(outCheck)\n",
    "    #print(test1-test2)\n",
    "    finalValues.append(finalResult);\n",
    "\n"
   ]
  },
  {
   "cell_type": "code",
   "execution_count": 3,
   "metadata": {},
   "outputs": [
    {
     "name": "stdout",
     "output_type": "stream",
     "text": [
      "[1 0 0 2 2] [0.78785018 1.51857811 2.24930604 2.98003397 3.7107619  4.44148984]\n"
     ]
    }
   ],
   "source": [
    "mini = min(finalValues)\n",
    "maxi = max(finalValues)\n",
    "interval = (maxi-mini) / 5\n",
    "hist,bins = np.histogram(finalValues,bins = [mini,mini+interval,mini+2*interval,mini+3*interval,mini+4*interval,maxi])\n",
    "print(hist,bins)"
   ]
  },
  {
   "cell_type": "code",
   "execution_count": 9,
   "metadata": {},
   "outputs": [
    {
     "name": "stdout",
     "output_type": "stream",
     "text": [
      "4.429945424855855\n"
     ]
    }
   ],
   "source": [
    "max = hist[4]\n",
    "index = 4\n",
    "for i in range(3,-1,-1):\n",
    "    if hist[i] > max:\n",
    "        max = hist[i]\n",
    "        index = i\n",
    "a = bins[index]\n",
    "b = bins[index+1]\n",
    "sum = 0\n",
    "for fr in finalValues:\n",
    "    if fr >= a and fr <= b:\n",
    "        sum += fr\n",
    "threshold = sum/max\n",
    "print(threshold)"
   ]
  },
  {
   "cell_type": "code",
   "execution_count": 10,
   "metadata": {},
   "outputs": [
    {
     "data": {
      "text/plain": [
       "16.00703832123997"
      ]
     },
     "execution_count": 10,
     "metadata": {},
     "output_type": "execute_result"
    }
   ],
   "source": [
    "np.sum([4.41840101394874,\n",
    "2.999456916970279,\n",
    "4.44148983576297,\n",
    "0.7878501798247901,\n",
    "3.3598403747331935])"
   ]
  }
 ],
 "metadata": {
  "kernelspec": {
   "display_name": "Python 3",
   "language": "python",
   "name": "python3"
  },
  "language_info": {
   "codemirror_mode": {
    "name": "ipython",
    "version": 3
   },
   "file_extension": ".py",
   "mimetype": "text/x-python",
   "name": "python",
   "nbconvert_exporter": "python",
   "pygments_lexer": "ipython3",
   "version": "3.6.5"
  }
 },
 "nbformat": 4,
 "nbformat_minor": 2
}
