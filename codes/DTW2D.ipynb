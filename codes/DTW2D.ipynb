{
 "cells": [
  {
   "cell_type": "code",
   "execution_count": 24,
   "metadata": {},
   "outputs": [
    {
     "name": "stdout",
     "output_type": "stream",
     "text": [
      "Populating the interactive namespace from numpy and matplotlib\n"
     ]
    }
   ],
   "source": [
    "%pylab inline\n",
    "import numpy as np\n",
    "from scipy.spatial.distance import euclidean\n",
    "from fastdtw import fastdtw\n",
    "import pandas as pd"
   ]
  },
  {
   "cell_type": "code",
   "execution_count": 261,
   "metadata": {},
   "outputs": [],
   "source": [
    "data1 = pd.read_csv(\"speedHarsh1.csv\")\n",
    "data2 = pd.read_csv(\"speedHarsh2.csv\")"
   ]
  },
  {
   "cell_type": "code",
   "execution_count": 241,
   "metadata": {},
   "outputs": [
    {
     "ename": "IndexError",
     "evalue": "single positional indexer is out-of-bounds",
     "output_type": "error",
     "traceback": [
      "\u001b[1;31m---------------------------------------------------------------------------\u001b[0m",
      "\u001b[1;31mIndexError\u001b[0m                                Traceback (most recent call last)",
      "\u001b[1;32m<ipython-input-241-133b7493220f>\u001b[0m in \u001b[0;36m<module>\u001b[1;34m()\u001b[0m\n\u001b[0;32m      4\u001b[0m \u001b[0mx3\u001b[0m \u001b[1;33m=\u001b[0m \u001b[0mdata1\u001b[0m\u001b[1;33m.\u001b[0m\u001b[0miloc\u001b[0m\u001b[1;33m[\u001b[0m\u001b[1;33m:\u001b[0m\u001b[1;33m,\u001b[0m\u001b[1;36m1\u001b[0m\u001b[1;33m]\u001b[0m\u001b[1;33m\u001b[0m\u001b[0m\n\u001b[0;32m      5\u001b[0m \u001b[0mx4\u001b[0m \u001b[1;33m=\u001b[0m \u001b[1;33m[\u001b[0m\u001b[0mi\u001b[0m \u001b[1;32mfor\u001b[0m \u001b[0mi\u001b[0m \u001b[1;32min\u001b[0m \u001b[0mx3\u001b[0m\u001b[1;33m]\u001b[0m\u001b[1;33m\u001b[0m\u001b[0m\n\u001b[1;32m----> 6\u001b[1;33m \u001b[0mx6\u001b[0m \u001b[1;33m=\u001b[0m \u001b[0mdata1\u001b[0m\u001b[1;33m.\u001b[0m\u001b[0miloc\u001b[0m\u001b[1;33m[\u001b[0m\u001b[1;33m:\u001b[0m\u001b[1;33m,\u001b[0m\u001b[1;36m2\u001b[0m\u001b[1;33m]\u001b[0m\u001b[1;33m\u001b[0m\u001b[0m\n\u001b[0m\u001b[0;32m      7\u001b[0m \u001b[0mx7\u001b[0m \u001b[1;33m=\u001b[0m \u001b[1;33m[\u001b[0m\u001b[0mi\u001b[0m \u001b[1;32mfor\u001b[0m \u001b[0mi\u001b[0m \u001b[1;32min\u001b[0m \u001b[0mx6\u001b[0m\u001b[1;33m]\u001b[0m\u001b[1;33m\u001b[0m\u001b[0m\n\u001b[0;32m      8\u001b[0m \u001b[0my1\u001b[0m \u001b[1;33m=\u001b[0m \u001b[0mdata2\u001b[0m\u001b[1;33m.\u001b[0m\u001b[0miloc\u001b[0m\u001b[1;33m[\u001b[0m\u001b[1;33m:\u001b[0m\u001b[1;33m,\u001b[0m\u001b[1;36m0\u001b[0m\u001b[1;33m]\u001b[0m\u001b[1;33m\u001b[0m\u001b[0m\n",
      "\u001b[1;32m~\\Anaconda3\\lib\\site-packages\\pandas\\core\\indexing.py\u001b[0m in \u001b[0;36m__getitem__\u001b[1;34m(self, key)\u001b[0m\n\u001b[0;32m   1470\u001b[0m             \u001b[1;32mexcept\u001b[0m \u001b[1;33m(\u001b[0m\u001b[0mKeyError\u001b[0m\u001b[1;33m,\u001b[0m \u001b[0mIndexError\u001b[0m\u001b[1;33m)\u001b[0m\u001b[1;33m:\u001b[0m\u001b[1;33m\u001b[0m\u001b[0m\n\u001b[0;32m   1471\u001b[0m                 \u001b[1;32mpass\u001b[0m\u001b[1;33m\u001b[0m\u001b[0m\n\u001b[1;32m-> 1472\u001b[1;33m             \u001b[1;32mreturn\u001b[0m \u001b[0mself\u001b[0m\u001b[1;33m.\u001b[0m\u001b[0m_getitem_tuple\u001b[0m\u001b[1;33m(\u001b[0m\u001b[0mkey\u001b[0m\u001b[1;33m)\u001b[0m\u001b[1;33m\u001b[0m\u001b[0m\n\u001b[0m\u001b[0;32m   1473\u001b[0m         \u001b[1;32melse\u001b[0m\u001b[1;33m:\u001b[0m\u001b[1;33m\u001b[0m\u001b[0m\n\u001b[0;32m   1474\u001b[0m             \u001b[1;31m# we by definition only have the 0th axis\u001b[0m\u001b[1;33m\u001b[0m\u001b[1;33m\u001b[0m\u001b[0m\n",
      "\u001b[1;32m~\\Anaconda3\\lib\\site-packages\\pandas\\core\\indexing.py\u001b[0m in \u001b[0;36m_getitem_tuple\u001b[1;34m(self, tup)\u001b[0m\n\u001b[0;32m   2011\u001b[0m     \u001b[1;32mdef\u001b[0m \u001b[0m_getitem_tuple\u001b[0m\u001b[1;33m(\u001b[0m\u001b[0mself\u001b[0m\u001b[1;33m,\u001b[0m \u001b[0mtup\u001b[0m\u001b[1;33m)\u001b[0m\u001b[1;33m:\u001b[0m\u001b[1;33m\u001b[0m\u001b[0m\n\u001b[0;32m   2012\u001b[0m \u001b[1;33m\u001b[0m\u001b[0m\n\u001b[1;32m-> 2013\u001b[1;33m         \u001b[0mself\u001b[0m\u001b[1;33m.\u001b[0m\u001b[0m_has_valid_tuple\u001b[0m\u001b[1;33m(\u001b[0m\u001b[0mtup\u001b[0m\u001b[1;33m)\u001b[0m\u001b[1;33m\u001b[0m\u001b[0m\n\u001b[0m\u001b[0;32m   2014\u001b[0m         \u001b[1;32mtry\u001b[0m\u001b[1;33m:\u001b[0m\u001b[1;33m\u001b[0m\u001b[0m\n\u001b[0;32m   2015\u001b[0m             \u001b[1;32mreturn\u001b[0m \u001b[0mself\u001b[0m\u001b[1;33m.\u001b[0m\u001b[0m_getitem_lowerdim\u001b[0m\u001b[1;33m(\u001b[0m\u001b[0mtup\u001b[0m\u001b[1;33m)\u001b[0m\u001b[1;33m\u001b[0m\u001b[0m\n",
      "\u001b[1;32m~\\Anaconda3\\lib\\site-packages\\pandas\\core\\indexing.py\u001b[0m in \u001b[0;36m_has_valid_tuple\u001b[1;34m(self, key)\u001b[0m\n\u001b[0;32m    220\u001b[0m                 \u001b[1;32mraise\u001b[0m \u001b[0mIndexingError\u001b[0m\u001b[1;33m(\u001b[0m\u001b[1;34m'Too many indexers'\u001b[0m\u001b[1;33m)\u001b[0m\u001b[1;33m\u001b[0m\u001b[0m\n\u001b[0;32m    221\u001b[0m             \u001b[1;32mtry\u001b[0m\u001b[1;33m:\u001b[0m\u001b[1;33m\u001b[0m\u001b[0m\n\u001b[1;32m--> 222\u001b[1;33m                 \u001b[0mself\u001b[0m\u001b[1;33m.\u001b[0m\u001b[0m_validate_key\u001b[0m\u001b[1;33m(\u001b[0m\u001b[0mk\u001b[0m\u001b[1;33m,\u001b[0m \u001b[0mi\u001b[0m\u001b[1;33m)\u001b[0m\u001b[1;33m\u001b[0m\u001b[0m\n\u001b[0m\u001b[0;32m    223\u001b[0m             \u001b[1;32mexcept\u001b[0m \u001b[0mValueError\u001b[0m\u001b[1;33m:\u001b[0m\u001b[1;33m\u001b[0m\u001b[0m\n\u001b[0;32m    224\u001b[0m                 raise ValueError(\"Location based indexing can only have \"\n",
      "\u001b[1;32m~\\Anaconda3\\lib\\site-packages\\pandas\\core\\indexing.py\u001b[0m in \u001b[0;36m_validate_key\u001b[1;34m(self, key, axis)\u001b[0m\n\u001b[0;32m   1955\u001b[0m             \u001b[1;32mreturn\u001b[0m\u001b[1;33m\u001b[0m\u001b[0m\n\u001b[0;32m   1956\u001b[0m         \u001b[1;32melif\u001b[0m \u001b[0mis_integer\u001b[0m\u001b[1;33m(\u001b[0m\u001b[0mkey\u001b[0m\u001b[1;33m)\u001b[0m\u001b[1;33m:\u001b[0m\u001b[1;33m\u001b[0m\u001b[0m\n\u001b[1;32m-> 1957\u001b[1;33m             \u001b[0mself\u001b[0m\u001b[1;33m.\u001b[0m\u001b[0m_validate_integer\u001b[0m\u001b[1;33m(\u001b[0m\u001b[0mkey\u001b[0m\u001b[1;33m,\u001b[0m \u001b[0maxis\u001b[0m\u001b[1;33m)\u001b[0m\u001b[1;33m\u001b[0m\u001b[0m\n\u001b[0m\u001b[0;32m   1958\u001b[0m         \u001b[1;32melif\u001b[0m \u001b[0misinstance\u001b[0m\u001b[1;33m(\u001b[0m\u001b[0mkey\u001b[0m\u001b[1;33m,\u001b[0m \u001b[0mtuple\u001b[0m\u001b[1;33m)\u001b[0m\u001b[1;33m:\u001b[0m\u001b[1;33m\u001b[0m\u001b[0m\n\u001b[0;32m   1959\u001b[0m             \u001b[1;31m# a tuple should already have been caught by this point\u001b[0m\u001b[1;33m\u001b[0m\u001b[1;33m\u001b[0m\u001b[0m\n",
      "\u001b[1;32m~\\Anaconda3\\lib\\site-packages\\pandas\\core\\indexing.py\u001b[0m in \u001b[0;36m_validate_integer\u001b[1;34m(self, key, axis)\u001b[0m\n\u001b[0;32m   2007\u001b[0m         \u001b[0ml\u001b[0m \u001b[1;33m=\u001b[0m \u001b[0mlen\u001b[0m\u001b[1;33m(\u001b[0m\u001b[0max\u001b[0m\u001b[1;33m)\u001b[0m\u001b[1;33m\u001b[0m\u001b[0m\n\u001b[0;32m   2008\u001b[0m         \u001b[1;32mif\u001b[0m \u001b[0mkey\u001b[0m \u001b[1;33m>=\u001b[0m \u001b[0ml\u001b[0m \u001b[1;32mor\u001b[0m \u001b[0mkey\u001b[0m \u001b[1;33m<\u001b[0m \u001b[1;33m-\u001b[0m\u001b[0ml\u001b[0m\u001b[1;33m:\u001b[0m\u001b[1;33m\u001b[0m\u001b[0m\n\u001b[1;32m-> 2009\u001b[1;33m             \u001b[1;32mraise\u001b[0m \u001b[0mIndexError\u001b[0m\u001b[1;33m(\u001b[0m\u001b[1;34m\"single positional indexer is out-of-bounds\"\u001b[0m\u001b[1;33m)\u001b[0m\u001b[1;33m\u001b[0m\u001b[0m\n\u001b[0m\u001b[0;32m   2010\u001b[0m \u001b[1;33m\u001b[0m\u001b[0m\n\u001b[0;32m   2011\u001b[0m     \u001b[1;32mdef\u001b[0m \u001b[0m_getitem_tuple\u001b[0m\u001b[1;33m(\u001b[0m\u001b[0mself\u001b[0m\u001b[1;33m,\u001b[0m \u001b[0mtup\u001b[0m\u001b[1;33m)\u001b[0m\u001b[1;33m:\u001b[0m\u001b[1;33m\u001b[0m\u001b[0m\n",
      "\u001b[1;31mIndexError\u001b[0m: single positional indexer is out-of-bounds"
     ]
    }
   ],
   "source": [
    "# for xy coordinate\n",
    "x1 = data1.iloc[:,0]\n",
    "x2 = [i for i in x1]\n",
    "x3 = data1.iloc[:,1]\n",
    "x4 = [i for i in x3]\n",
    "x6 = data1.iloc[:,2]\n",
    "x7 = [i for i in x6]\n",
    "y1 = data2.iloc[:,0]\n",
    "y2 = [i for i in y1]\n",
    "y3 = data2.iloc[:,1]\n",
    "y4 = [i for i in y3]\n",
    "y6 = data2.iloc[:,2]\n",
    "y7 = [i for i in y6]\n",
    "x5 = []\n",
    "y5 = []\n",
    "for i in range(0,len(x2)):\n",
    "    a = [x2[i],x4[i],x7[i]]\n",
    "    x5.append(a)\n",
    "for i in range(0,len(y2)):\n",
    "    b = [y2[i],y4[i],y7[i]]\n",
    "    y5.append(b)\n",
    "print(x5)\n",
    "print(y5)"
   ]
  },
  {
   "cell_type": "code",
   "execution_count": 258,
   "metadata": {},
   "outputs": [
    {
     "name": "stdout",
     "output_type": "stream",
     "text": [
      "[[0.0, 0], [0.10506656100647377, 17], [0.08173757924037156, 34], [0.09503700845666732, 50], [0.10989899503253688, 67], [0.1648882500561707, 86], [0.7550816191064853, 103], [1.2864810719209558, 120], [1.5460006795390349, 136], [1.7085473373938669, 153], [1.5226509988127568, 169], [1.6992836935598117, 186], [1.5205132645972468, 203], [2.127469526709957, 219], [1.6747448066539248, 236], [2.1790712878716216, 252], [1.6420770615303064, 269], [1.2195200962509094, 286], [0.4892242063286963, 303], [3.9758330724035553, 307], [2.4000505369095397, 320], [3.1043153518163025, 336], [1.921805704400676, 353], [1.5197042550595936, 369], [1.0407694767281876, 386], [0.7541183228565761, 402], [0.4823315382348878, 419], [0.28263958299227143, 436], [0.09406674210443776, 453], [0.08368196559370578, 469], [0.10521091907489033, 486], [0.17512985544694246, 503], [0.913649485046432, 519], [1.1855809324260471, 536], [1.8675030218971036, 552], [2.7508383398501803, 569], [2.1329634238022, 586], [1.2147721314528637, 602], [0.7648939708821377, 619], [1.1344556976052111, 636], [0.9923283987656528, 652], [1.009350164585079, 669], [1.767838974724651, 686], [3.447620000996892, 702], [1.9359299741685323, 719], [1.535646590965008, 736], [1.1197993362586751, 753], [0.8921290104822936, 769], [0.5886392791152278, 786], [0.3965400312148522, 803], [0.2853660583496094, 819], [0.15866986443014705, 836], [0.15610885620117188, 852], [0.04932604337993421, 871], [0.023874918619791668, 883]]\n",
      "[[0.0, 0], [0.09324488019027248, 15], [0.13534866623082134, 32], [0.11887129654155568, 48], [0.8817318915957345, 65], [1.0174805746994071, 82], [1.8936722247111204, 98], [2.0449650891205446, 115], [1.9368461046871623, 133], [1.5198862673153717, 149], [1.0956218887981537, 171], [0.9662885321150856, 184], [4.311301875850839, 187], [1.4746274817240064, 203], [0.779771903085821, 224], [0.9430077572937304, 241], [1.2302748912091273, 264], [2.732775922675696, 288], [1.4514026881645994, 299], [1.109683491688754, 316], [0.4683425843814493, 334], [0.6549884531807654, 348], [0.5229277746066011, 365], [0.4409000172334559, 382], [0.3231091202004895, 399], [0.4882594514428985, 415], [0.9522876788723652, 432], [3.732406686576135, 450], [3.951932551167226, 465], [2.096653541048295, 482], [1.4704389094261234, 499], [0.9818348162032091, 515], [0.9119439857646018, 532], [1.1737213803151083, 549], [1.8742946196773134, 566], [3.027155931904135, 582], [2.101847467126852, 599], [1.1538573014711395, 615], [0.6396018659775703, 632], [0.4755595597758844, 649], [0.4730663299560547, 665], [0.3647146011353294, 682], [0.3696703270559808, 698], [0.24420884076286764, 715], [0.15274945427389705, 732]]\n"
     ]
    }
   ],
   "source": [
    "x1 = data1.iloc[:,0]\n",
    "x2 = [i for i in x1]\n",
    "x3 = data1.iloc[:,1]\n",
    "x4 = [i for i in x3]\n",
    "y1 = data2.iloc[:,0]\n",
    "y2 = [i for i in y1]\n",
    "y3 = data2.iloc[:,1]\n",
    "y4 = [i for i in y3]\n",
    "x5 = []\n",
    "y5 = []\n",
    "for i in range(0,len(x2)):\n",
    "    a = [x2[i],x4[i]]\n",
    "    x5.append(a)\n",
    "for i in range(0,len(y2)):\n",
    "    b = [y2[i],y4[i]]\n",
    "    y5.append(b)\n",
    "print(x5)\n",
    "print(y5)"
   ]
  },
  {
   "cell_type": "code",
   "execution_count": 259,
   "metadata": {},
   "outputs": [
    {
     "name": "stdout",
     "output_type": "stream",
     "text": [
      "[[0.00000000e+00 0.00000000e+00]\n",
      " [1.05066561e-01 1.70000000e+01]\n",
      " [8.17375792e-02 3.40000000e+01]\n",
      " [9.50370085e-02 5.00000000e+01]\n",
      " [1.09898995e-01 6.70000000e+01]\n",
      " [1.64888250e-01 8.60000000e+01]\n",
      " [7.55081619e-01 1.03000000e+02]\n",
      " [1.28648107e+00 1.20000000e+02]\n",
      " [1.54600068e+00 1.36000000e+02]\n",
      " [1.70854734e+00 1.53000000e+02]\n",
      " [1.52265100e+00 1.69000000e+02]\n",
      " [1.69928369e+00 1.86000000e+02]\n",
      " [1.52051326e+00 2.03000000e+02]\n",
      " [2.12746953e+00 2.19000000e+02]\n",
      " [1.67474481e+00 2.36000000e+02]\n",
      " [2.17907129e+00 2.52000000e+02]\n",
      " [1.64207706e+00 2.69000000e+02]\n",
      " [1.21952010e+00 2.86000000e+02]\n",
      " [4.89224206e-01 3.03000000e+02]\n",
      " [3.97583307e+00 3.07000000e+02]\n",
      " [2.40005054e+00 3.20000000e+02]\n",
      " [3.10431535e+00 3.36000000e+02]\n",
      " [1.92180570e+00 3.53000000e+02]\n",
      " [1.51970426e+00 3.69000000e+02]\n",
      " [1.04076948e+00 3.86000000e+02]\n",
      " [7.54118323e-01 4.02000000e+02]\n",
      " [4.82331538e-01 4.19000000e+02]\n",
      " [2.82639583e-01 4.36000000e+02]\n",
      " [9.40667421e-02 4.53000000e+02]\n",
      " [8.36819656e-02 4.69000000e+02]\n",
      " [1.05210919e-01 4.86000000e+02]\n",
      " [1.75129855e-01 5.03000000e+02]\n",
      " [9.13649485e-01 5.19000000e+02]\n",
      " [1.18558093e+00 5.36000000e+02]\n",
      " [1.86750302e+00 5.52000000e+02]\n",
      " [2.75083834e+00 5.69000000e+02]\n",
      " [2.13296342e+00 5.86000000e+02]\n",
      " [1.21477213e+00 6.02000000e+02]\n",
      " [7.64893971e-01 6.19000000e+02]\n",
      " [1.13445570e+00 6.36000000e+02]\n",
      " [9.92328399e-01 6.52000000e+02]\n",
      " [1.00935016e+00 6.69000000e+02]\n",
      " [1.76783897e+00 6.86000000e+02]\n",
      " [3.44762000e+00 7.02000000e+02]\n",
      " [1.93592997e+00 7.19000000e+02]\n",
      " [1.53564659e+00 7.36000000e+02]\n",
      " [1.11979934e+00 7.53000000e+02]\n",
      " [8.92129010e-01 7.69000000e+02]\n",
      " [5.88639279e-01 7.86000000e+02]\n",
      " [3.96540031e-01 8.03000000e+02]\n",
      " [2.85366058e-01 8.19000000e+02]\n",
      " [1.58669864e-01 8.36000000e+02]\n",
      " [1.56108856e-01 8.52000000e+02]\n",
      " [4.93260434e-02 8.71000000e+02]\n",
      " [2.38749186e-02 8.83000000e+02]]\n",
      "[[0.00000000e+00 0.00000000e+00]\n",
      " [9.32448802e-02 1.50000000e+01]\n",
      " [1.35348666e-01 3.20000000e+01]\n",
      " [1.18871297e-01 4.80000000e+01]\n",
      " [8.81731892e-01 6.50000000e+01]\n",
      " [1.01748057e+00 8.20000000e+01]\n",
      " [1.89367222e+00 9.80000000e+01]\n",
      " [2.04496509e+00 1.15000000e+02]\n",
      " [1.93684610e+00 1.33000000e+02]\n",
      " [1.51988627e+00 1.49000000e+02]\n",
      " [1.09562189e+00 1.71000000e+02]\n",
      " [9.66288532e-01 1.84000000e+02]\n",
      " [4.31130188e+00 1.87000000e+02]\n",
      " [1.47462748e+00 2.03000000e+02]\n",
      " [7.79771903e-01 2.24000000e+02]\n",
      " [9.43007757e-01 2.41000000e+02]\n",
      " [1.23027489e+00 2.64000000e+02]\n",
      " [2.73277592e+00 2.88000000e+02]\n",
      " [1.45140269e+00 2.99000000e+02]\n",
      " [1.10968349e+00 3.16000000e+02]\n",
      " [4.68342584e-01 3.34000000e+02]\n",
      " [6.54988453e-01 3.48000000e+02]\n",
      " [5.22927775e-01 3.65000000e+02]\n",
      " [4.40900017e-01 3.82000000e+02]\n",
      " [3.23109120e-01 3.99000000e+02]\n",
      " [4.88259451e-01 4.15000000e+02]\n",
      " [9.52287679e-01 4.32000000e+02]\n",
      " [3.73240669e+00 4.50000000e+02]\n",
      " [3.95193255e+00 4.65000000e+02]\n",
      " [2.09665354e+00 4.82000000e+02]\n",
      " [1.47043891e+00 4.99000000e+02]\n",
      " [9.81834816e-01 5.15000000e+02]\n",
      " [9.11943986e-01 5.32000000e+02]\n",
      " [1.17372138e+00 5.49000000e+02]\n",
      " [1.87429462e+00 5.66000000e+02]\n",
      " [3.02715593e+00 5.82000000e+02]\n",
      " [2.10184747e+00 5.99000000e+02]\n",
      " [1.15385730e+00 6.15000000e+02]\n",
      " [6.39601866e-01 6.32000000e+02]\n",
      " [4.75559560e-01 6.49000000e+02]\n",
      " [4.73066330e-01 6.65000000e+02]\n",
      " [3.64714601e-01 6.82000000e+02]\n",
      " [3.69670327e-01 6.98000000e+02]\n",
      " [2.44208841e-01 7.15000000e+02]\n",
      " [1.52749454e-01 7.32000000e+02]]\n"
     ]
    }
   ],
   "source": [
    "x = np.array(x5)\n",
    "y = np.array(y5)\n",
    "print(x)\n",
    "print(y)"
   ]
  },
  {
   "cell_type": "code",
   "execution_count": 252,
   "metadata": {},
   "outputs": [
    {
     "data": {
      "text/plain": [
       "[<matplotlib.lines.Line2D at 0x1671261a1d0>,\n",
       " <matplotlib.lines.Line2D at 0x167121a1e80>]"
      ]
     },
     "execution_count": 252,
     "metadata": {},
     "output_type": "execute_result"
    },
    {
     "data": {
      "image/png": "[encoded data removed]",
      "text/plain": [
       "<Figure size 432x288 with 1 Axes>"
      ]
     },
     "metadata": {},
     "output_type": "display_data"
    }
   ],
   "source": [
    "plot(x)\n",
    "plot(y)"
   ]
  },
  {
   "cell_type": "code",
   "execution_count": 260,
   "metadata": {},
   "outputs": [
    {
     "name": "stdout",
     "output_type": "stream",
     "text": [
      "967.1370046819839\n",
      "[(0, 0), (1, 1), (2, 2), (3, 3), (4, 4), (5, 5), (6, 6), (7, 7), (8, 8), (9, 9), (10, 10), (11, 11), (11, 12), (12, 13), (13, 14), (14, 15), (15, 15), (16, 16), (17, 17), (18, 18), (19, 18), (20, 19), (21, 20), (22, 21), (23, 22), (24, 23), (25, 24), (26, 25), (27, 26), (28, 27), (29, 28), (30, 29), (31, 30), (32, 31), (33, 32), (34, 33), (35, 34), (36, 35), (37, 36), (38, 37), (39, 38), (40, 39), (41, 40), (42, 41), (43, 42), (44, 43), (45, 44), (46, 44), (47, 44), (48, 44), (49, 44), (50, 44), (51, 44), (52, 44), (53, 44), (54, 44)]\n"
     ]
    }
   ],
   "source": [
    "distance, path = fastdtw(x, y, radius=2,  dist=euclidean)\n",
    "print(distance)\n",
    "print(path)"
   ]
  },
  {
   "cell_type": "code",
   "execution_count": 255,
   "metadata": {},
   "outputs": [
    {
     "name": "stdout",
     "output_type": "stream",
     "text": [
      "4.910894541489705\n"
     ]
    }
   ],
   "source": [
    "e = []\n",
    "for i in path:\n",
    "    xSeries = x[i[0]]\n",
    "    ySeries = y[i[1]]\n",
    "    e.append(euclidean(xSeries, ySeries))\n",
    "print(std(e))\n"
   ]
  }
 ],
 "metadata": {
  "kernelspec": {
   "display_name": "Python 3",
   "language": "python",
   "name": "python3"
  },
  "language_info": {
   "codemirror_mode": {
    "name": "ipython",
    "version": 3
   },
   "file_extension": ".py",
   "mimetype": "text/x-python",
   "name": "python",
   "nbconvert_exporter": "python",
   "pygments_lexer": "ipython3",
   "version": "3.6.5"
  }
 },
 "nbformat": 4,
 "nbformat_minor": 2
}
