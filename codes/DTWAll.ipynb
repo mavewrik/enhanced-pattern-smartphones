{
 "cells": [
  {
   "cell_type": "code",
   "execution_count": 34,
   "metadata": {},
   "outputs": [
    {
     "name": "stdout",
     "output_type": "stream",
     "text": [
      "Populating the interactive namespace from numpy and matplotlib\n"
     ]
    }
   ],
   "source": [
    "%pylab inline\n",
    "import numpy as np\n",
    "from scipy.spatial.distance import euclidean\n",
    "from fastdtw import fastdtw\n",
    "import pandas as pd"
   ]
  },
  {
   "cell_type": "code",
   "execution_count": 35,
   "metadata": {},
   "outputs": [],
   "source": [
    "data1 = []\n",
    "data2 = []\n",
    "for i in range(1,5):\n",
    "    for j in range(i+1,6):\n",
    "        data11 = pd.read_csv(\"upload/speedWrik\"+str(i)+\".csv\")\n",
    "        data21 = pd.read_csv(\"upload/speedWrik\"+str(j)+\".csv\")\n",
    "        data1.append(data11)\n",
    "        data2.append(data21)"
   ]
  },
  {
   "cell_type": "code",
   "execution_count": 36,
   "metadata": {},
   "outputs": [],
   "source": [
    "x = []\n",
    "y = []\n",
    "for k in range(0,10):\n",
    "    x1 = data1[k].iloc[:,0]\n",
    "    x2 = [i for i in x1]\n",
    "    x3 = data1[k].iloc[:,1]\n",
    "    x4 = [i for i in x3]\n",
    "    y1 = data2[k].iloc[:,0]\n",
    "    y2 = [i for i in y1]\n",
    "    y3 = data2[k].iloc[:,1]\n",
    "    y4 = [i for i in y3]\n",
    "    x5 = []\n",
    "    y5 = []\n",
    "    for i in range(0,len(x2)):\n",
    "        a = [x2[i],x4[i]]\n",
    "        x5.append(a)\n",
    "    for i in range(0,len(y2)):\n",
    "        b = [y2[i],y4[i]]\n",
    "        y5.append(b)\n",
    "    x11 = np.array(x5)\n",
    "    y11 = np.array(y5)\n",
    "    x.append(x11)\n",
    "    y.append(y11)"
   ]
  },
  {
   "cell_type": "code",
   "execution_count": 37,
   "metadata": {},
   "outputs": [],
   "source": [
    "distance = []\n",
    "path = []\n",
    "for i in range(0,10):\n",
    "    distance11,path11 = fastdtw(x[i], y[i], radius=2,  dist=euclidean)\n",
    "    distance.append(distance11)\n",
    "    path.append(path11)"
   ]
  },
  {
   "cell_type": "code",
   "execution_count": 38,
   "metadata": {},
   "outputs": [],
   "source": [
    "euc = []\n",
    "for j in range(0,10):\n",
    "    e = []\n",
    "    path11 = path[j]\n",
    "    for i in path11:\n",
    "        xSeries = x[j][i[0]]\n",
    "        ySeries = y[j][i[1]]\n",
    "        e.append(euclidean(xSeries, ySeries))\n",
    "    euc.append(e)"
   ]
  },
  {
   "cell_type": "code",
   "execution_count": 39,
   "metadata": {},
   "outputs": [
    {
     "name": "stdout",
     "output_type": "stream",
     "text": [
      "36\n",
      "31\n"
     ]
    }
   ],
   "source": [
    "maxi = 0\n",
    "mini = 1000\n",
    "for i in euc:\n",
    "    if len(i) > maxi:\n",
    "        maxi = len(i)\n",
    "    if len(i) < mini:\n",
    "        mini = len(i)\n",
    "print(maxi)\n",
    "print(mini)"
   ]
  },
  {
   "cell_type": "code",
   "execution_count": 40,
   "metadata": {},
   "outputs": [],
   "source": [
    "for i in euc:\n",
    "    if maxi-len(i) > 0:\n",
    "        for j in range(0,maxi-len(i)):\n",
    "            i.append(0)"
   ]
  },
  {
   "cell_type": "code",
   "execution_count": 41,
   "metadata": {},
   "outputs": [],
   "source": [
    "euclid = np.array(euc)"
   ]
  },
  {
   "cell_type": "code",
   "execution_count": 42,
   "metadata": {},
   "outputs": [
    {
     "name": "stdout",
     "output_type": "stream",
     "text": [
      "[ 0.          7.6222888   1.28909351  0.50313601  0.40823923  0.52276039\n",
      "  0.68409885  0.47100917  0.59430603  0.50712524  0.63647946  0.88343757\n",
      "  1.26877159  0.88593596  0.58420113  0.55849572  1.11861177  0.58354765\n",
      "  0.45349692  3.91306162  1.02630051  1.69594541  1.60207398  0.66616407\n",
      "  0.60337481  1.33028231  1.13255606  0.99607701  0.97148844  0.50141571\n",
      "  4.50667912 11.25857005 19.13872895 27.67476316 35.37868321 41.67506706]\n",
      "36\n"
     ]
    }
   ],
   "source": [
    "out = euclid.std(0)\n",
    "print(out)\n",
    "print(len(out))"
   ]
  }
 ],
 "metadata": {
  "kernelspec": {
   "display_name": "Python 3",
   "language": "python",
   "name": "python3"
  },
  "language_info": {
   "codemirror_mode": {
    "name": "ipython",
    "version": 3
   },
   "file_extension": ".py",
   "mimetype": "text/x-python",
   "name": "python",
   "nbconvert_exporter": "python",
   "pygments_lexer": "ipython3",
   "version": "3.6.5"
  }
 },
 "nbformat": 4,
 "nbformat_minor": 2
}
